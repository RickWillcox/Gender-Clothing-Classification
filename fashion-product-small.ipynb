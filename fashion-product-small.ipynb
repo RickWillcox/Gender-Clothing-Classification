{
 "cells": [
  {
   "cell_type": "markdown",
   "id": "b0344db8",
   "metadata": {},
   "source": [
    "# Sorting images to men / women folders"
   ]
  },
  {
   "cell_type": "code",
   "execution_count": 1,
   "id": "c1ebdaa9",
   "metadata": {},
   "outputs": [],
   "source": [
    "import os\n",
    "import csv\n",
    "import os.path"
   ]
  },
  {
   "cell_type": "code",
   "execution_count": 2,
   "id": "44217965",
   "metadata": {},
   "outputs": [],
   "source": [
    "images_path = \"myntradataset/images/\"\n",
    "men_training_path = \"train/man/\"\n",
    "women_training_path = \"train/woman/\"\n",
    "men_validation_path = \"validation/man/\"\n",
    "women_validation_path = \"validation/woman/\"\n",
    "men_testing_path = \"testing/man/\"\n",
    "women_testing_path = \"testing/woman/\"\n",
    "\n",
    "count = 0\n",
    "\n",
    "with open('styles.csv', 'r') as f:\n",
    "    reader = csv.reader(f, delimiter=',')\n",
    "    for rowDict in reader:\n",
    "        if os.path.isfile(images_path + rowDict[0]):\n",
    "            if rowDict[1] == \"Men\":\n",
    "                if count <= 8:\n",
    "                    os.rename(images_path + rowDict[0], men_training_path + rowDict[0])\n",
    "                elif count == 9:\n",
    "                    os.rename(images_path + rowDict[0], men_validation_path + rowDict[0])\n",
    "                elif count == 10:\n",
    "                    os.rename(images_path + rowDict[0], men_testing_path + rowDict[0])\n",
    "                    count = 0\n",
    "                count += 1\n",
    "            elif rowDict[1] == \"Women\":\n",
    "                if count <= 8:\n",
    "                    os.rename(images_path + rowDict[0], women_training_path + rowDict[0])\n",
    "                elif count == 9:\n",
    "                    os.rename(images_path + rowDict[0], women_validation_path + rowDict[0])\n",
    "                elif count == 10:\n",
    "                    os.rename(images_path + rowDict[0], women_testing_path + rowDict[0])\n",
    "                    count = 0\n",
    "                count += 1"
   ]
  },
  {
   "cell_type": "markdown",
   "id": "d631025f",
   "metadata": {},
   "source": [
    "# Train the model"
   ]
  },
  {
   "cell_type": "code",
   "execution_count": 3,
   "id": "ca286b99",
   "metadata": {},
   "outputs": [],
   "source": [
    "from tensorflow.keras.preprocessing.image import ImageDataGenerator\n",
    "from tensorflow.keras.preprocessing import image\n",
    "import tensorflow as tf\n",
    "import matplotlib.pyplot as plt\n",
    "import cv2\n",
    "import os\n",
    "import numpy as np\n"
   ]
  },
  {
   "cell_type": "code",
   "execution_count": 4,
   "id": "14a66e92",
   "metadata": {},
   "outputs": [],
   "source": [
    "train = ImageDataGenerator(rescale =1/255)\n",
    "validation = ImageDataGenerator(rescale =1/255)"
   ]
  },
  {
   "cell_type": "code",
   "execution_count": 5,
   "id": "1beb6d7e",
   "metadata": {},
   "outputs": [
    {
     "name": "stdout",
     "output_type": "stream",
     "text": [
      "Found 33823 images belonging to 2 classes.\n",
      "Found 4227 images belonging to 2 classes.\n"
     ]
    }
   ],
   "source": [
    "train_dataset = train.flow_from_directory(\"train/\", \n",
    "                                          target_size = (60,60),\n",
    "                                         batch_size = 1000,\n",
    "                                         class_mode = 'binary')\n",
    "\n",
    "validation_dataset = train.flow_from_directory(\"validation/\", \n",
    "                                          target_size = (60,60),\n",
    "                                         batch_size = 20,\n",
    "                                         class_mode = 'binary')"
   ]
  },
  {
   "cell_type": "code",
   "execution_count": 6,
   "id": "2a09a210",
   "metadata": {},
   "outputs": [
    {
     "data": {
      "text/plain": [
       "{'man': 0, 'woman': 1}"
      ]
     },
     "execution_count": 6,
     "metadata": {},
     "output_type": "execute_result"
    }
   ],
   "source": [
    "validation_dataset.class_indices"
   ]
  },
  {
   "cell_type": "code",
   "execution_count": 7,
   "id": "65579be7",
   "metadata": {},
   "outputs": [],
   "source": [
    "model = tf.keras.models.Sequential([tf.keras.layers.Conv2D(16,(3,3),activation = 'relu', input_shape= (60,60,3)),\n",
    "                                    tf.keras.layers.MaxPooling2D(2,2),\n",
    "                                    tf.keras.layers.Conv2D(32,(3,3),activation = 'relu'),\n",
    "                                    tf.keras.layers.MaxPooling2D(2,2),\n",
    "                                    tf.keras.layers.Conv2D(64,(3,3),activation = 'relu'),\n",
    "                                    tf.keras.layers.MaxPooling2D(2,2),\n",
    "                                    tf.keras.layers.Flatten(),\n",
    "                                    tf.keras.layers.Dense(512,activation= 'relu'),\n",
    "                                    tf.keras.layers.Dense(1,activation='sigmoid')                                \n",
    "                                    \n",
    "])"
   ]
  },
  {
   "cell_type": "code",
   "execution_count": 8,
   "id": "55607ff4",
   "metadata": {},
   "outputs": [],
   "source": [
    "model.compile(loss='binary_crossentropy',\n",
    "              optimizer=tf.keras.optimizers.RMSprop(learning_rate=0.001),\n",
    "              metrics=['accuracy'])"
   ]
  },
  {
   "cell_type": "code",
   "execution_count": 9,
   "id": "81b98fa8",
   "metadata": {
    "scrolled": true
   },
   "outputs": [
    {
     "name": "stdout",
     "output_type": "stream",
     "text": [
      "Epoch 1/10\n",
      "33/33 [==============================] - 38s 1s/step - loss: 0.6144 - accuracy: 0.6602 - val_loss: 0.4691 - val_accuracy: 0.7999\n",
      "Epoch 2/10\n",
      "33/33 [==============================] - 36s 1s/step - loss: 0.4290 - accuracy: 0.8015 - val_loss: 0.3793 - val_accuracy: 0.8256\n",
      "Epoch 3/10\n",
      "33/33 [==============================] - 35s 1s/step - loss: 0.3610 - accuracy: 0.8298 - val_loss: 0.4108 - val_accuracy: 0.7994\n",
      "Epoch 4/10\n",
      "33/33 [==============================] - 33s 998ms/step - loss: 0.3252 - accuracy: 0.8534 - val_loss: 0.3148 - val_accuracy: 0.8647\n",
      "Epoch 5/10\n",
      "33/33 [==============================] - 33s 995ms/step - loss: 0.2999 - accuracy: 0.8640 - val_loss: 0.3038 - val_accuracy: 0.8618\n",
      "Epoch 6/10\n",
      "33/33 [==============================] - 34s 1s/step - loss: 0.2693 - accuracy: 0.8822 - val_loss: 0.3065 - val_accuracy: 0.8628\n",
      "Epoch 7/10\n",
      "33/33 [==============================] - 36s 1s/step - loss: 0.2552 - accuracy: 0.8856 - val_loss: 0.2424 - val_accuracy: 0.9002\n",
      "Epoch 8/10\n",
      "33/33 [==============================] - 34s 1s/step - loss: 0.2396 - accuracy: 0.8961 - val_loss: 0.2213 - val_accuracy: 0.9108\n",
      "Epoch 9/10\n",
      "33/33 [==============================] - 34s 1s/step - loss: 0.2258 - accuracy: 0.9027 - val_loss: 0.2192 - val_accuracy: 0.9139\n",
      "Epoch 10/10\n",
      "33/33 [==============================] - 34s 1s/step - loss: 0.2143 - accuracy: 0.9082 - val_loss: 0.2070 - val_accuracy: 0.9198\n"
     ]
    }
   ],
   "source": [
    "model_fit = model.fit(train_dataset,\n",
    "                     steps_per_epoch = 33,\n",
    "                     epochs = 10,\n",
    "                     validation_data = validation_dataset)"
   ]
  },
  {
   "cell_type": "markdown",
   "id": "3404be4d",
   "metadata": {},
   "source": [
    "# Testing using testing set from the same set as the training dataset (unique images though)\n",
    "Link to set: https://www.kaggle.com/paramaggarwal/fashion-product-images-small"
   ]
  },
  {
   "cell_type": "code",
   "execution_count": 10,
   "id": "bc713a13",
   "metadata": {},
   "outputs": [],
   "source": [
    "men_testing_path = 'testing/man/'\n",
    "women_testing_path = 'testing/woman/'\n",
    "\n",
    "total_images = 0\n",
    "\n",
    "total_men_found = 0\n",
    "total_men_found_in_men_folder = 0\n",
    "total_men_found_in_women_folder = 0\n",
    "total_men_images = 0\n",
    "\n",
    "total_women_found = 0\n",
    "total_women_found_in_women_folder = 0\n",
    "total_women_found_in_men_folder = 0\n",
    "total_women_images = 0\n",
    "\n",
    "\n",
    "\n",
    "testing_paths = ['testing/man/', 'testing/woman/']\n",
    "\n",
    "for testing_path in testing_paths:\n",
    "\n",
    "    for i in os.listdir(testing_path):\n",
    "\n",
    "        img = image.load_img(testing_path + \"/\" + i, target_size = (60,60))\n",
    "        X = image.img_to_array(img)\n",
    "        X = np.expand_dims(X,axis = 0)\n",
    "        images = np.vstack([X])\n",
    "        val = model.predict(images)\n",
    "        if val == 0:\n",
    "            pass\n",
    "        elif val == 1:\n",
    "            pass\n",
    "        else :\n",
    "            val = 0\n",
    "        \n",
    "        total_images += 1\n",
    "        \n",
    "        if testing_path == 'testing/man/':\n",
    "            total_men_images += 1\n",
    "            if val == 0:\n",
    "                total_men_found +=1\n",
    "                total_men_found_in_men_folder += 1\n",
    "            elif val == 1:\n",
    "                total_women_found +=1\n",
    "                total_women_found_in_men_folder += 1\n",
    "\n",
    "                \n",
    "                \n",
    "        elif testing_path == 'testing/woman/':\n",
    "            total_women_images += 1\n",
    "            if val == 0:\n",
    "                total_men_found +=1\n",
    "                total_men_found_in_women_folder += 1\n",
    "            elif val == 1:\n",
    "                total_women_found +=1\n",
    "                total_women_found_in_women_folder += 1\n",
    "\n",
    "\n"
   ]
  },
  {
   "cell_type": "code",
   "execution_count": 11,
   "id": "2833704c",
   "metadata": {},
   "outputs": [],
   "source": [
    "import pandas as pd"
   ]
  },
  {
   "cell_type": "code",
   "execution_count": 12,
   "id": "a9a81310",
   "metadata": {},
   "outputs": [],
   "source": [
    "overall_accuracy = \"{:.2f}\".format(((total_men_found_in_men_folder + total_women_found_in_women_folder)/ total_images)*100)+ \"%\"\n",
    "men_accuracy = \"{:.2f}\".format(((total_men_found_in_men_folder)/ total_men_images)*100)+ \"%\"\n",
    "women_accuracy = \"{:.2f}\".format(((total_women_found_in_women_folder)/ total_women_images)*100)+ \"%\"\n",
    "men_in_women_folder = \"{:.2f}\".format(((total_women_found_in_men_folder)/ total_men_images)*100)+ \"%\"\n",
    "women_in_men_folder = \"{:.2f}\".format(((total_men_found_in_women_folder)/ total_women_images)*100)+ \"%\"\n",
    "\n",
    "\n",
    "\n"
   ]
  },
  {
   "cell_type": "code",
   "execution_count": 13,
   "id": "c484fae9",
   "metadata": {},
   "outputs": [
    {
     "name": "stdout",
     "output_type": "stream",
     "text": [
      "Overall\n",
      "Total Images: 4227\n",
      "Overall Accuracy: 91.25%\n",
      "\n",
      "\n",
      "Men folder\n",
      "Total Men Images: 2290\n",
      "Total Men Found: 2344\n",
      "Total Men Correctly Identified: 2132 / 2290\n",
      "Total Women found in Men Folder: 158 / 2290\n",
      "Men Accuracy: 93.10%\n",
      "Women in men folder %: 6.90%\n",
      "\n",
      "\n",
      "Women folder\n",
      "Total Women Images: 1937\n",
      "Total Women Found: 1883\n",
      "Total Women Correctly Identified: 1725 / 1937\n",
      "Total Men found in Women Folder: 212 / 1937\n",
      "Women Accuracy 89.06%\n",
      "Men in women folder %: 10.94%\n"
     ]
    }
   ],
   "source": [
    "print(\"Overall\")\n",
    "print(\"Total Images:\", total_images)\n",
    "print(\"Overall Accuracy:\", overall_accuracy)\n",
    "print(\"\")\n",
    "print(\"\")\n",
    "print(\"Men folder\")\n",
    "print(\"Total Men Images:\", total_men_images)\n",
    "print(\"Total Men Found:\", total_men_found)\n",
    "print(\"Total Men Correctly Identified:\", total_men_found_in_men_folder, \"/\", total_men_images)\n",
    "print(\"Total Women found in Men Folder:\", total_women_found_in_men_folder, \"/\", total_men_images)\n",
    "print(\"Men Accuracy:\", men_accuracy)\n",
    "print(\"Women in men folder %:\", men_in_women_folder)\n",
    "print(\"\")\n",
    "print(\"\")\n",
    "print(\"Women folder\")\n",
    "print(\"Total Women Images:\", total_women_images)\n",
    "print(\"Total Women Found:\", total_women_found)\n",
    "print(\"Total Women Correctly Identified:\", total_women_found_in_women_folder, \"/\", total_women_images)\n",
    "print(\"Total Men found in Women Folder:\", total_men_found_in_women_folder, \"/\", total_women_images)\n",
    "print(\"Women Accuracy\", women_accuracy)\n",
    "print(\"Men in women folder %:\", women_in_men_folder)\n",
    "\n"
   ]
  },
  {
   "cell_type": "markdown",
   "id": "6413ef24",
   "metadata": {},
   "source": [
    "# Testing using completely different test set than was used to train, mostly google image bulk downloads"
   ]
  },
  {
   "cell_type": "code",
   "execution_count": 14,
   "id": "62ad1da3",
   "metadata": {},
   "outputs": [],
   "source": [
    "total_images = 0\n",
    "\n",
    "total_men_found = 0\n",
    "total_men_found_in_men_folder = 0\n",
    "total_men_found_in_women_folder = 0\n",
    "total_men_images = 0\n",
    "\n",
    "total_women_found = 0\n",
    "total_women_found_in_women_folder = 0\n",
    "total_women_found_in_men_folder = 0\n",
    "total_women_images = 0\n",
    "\n",
    "\n",
    "\n",
    "testing_paths = ['testing/different-set/man/', 'testing/different-set/woman/']\n",
    "\n",
    "for testing_path in testing_paths:\n",
    "\n",
    "    for i in os.listdir(testing_path):\n",
    "\n",
    "        img = image.load_img(testing_path + \"/\" + i, target_size = (60,60))\n",
    "        X = image.img_to_array(img)\n",
    "        X = np.expand_dims(X,axis = 0)\n",
    "        images = np.vstack([X])\n",
    "        val = model.predict(images)\n",
    "        if val == 0:\n",
    "            pass\n",
    "        elif val == 1:\n",
    "            pass\n",
    "        else :\n",
    "            val = 0\n",
    "        \n",
    "        total_images += 1\n",
    "        \n",
    "        if testing_path == 'testing/different-set/man/':\n",
    "            total_men_images += 1\n",
    "            if val == 0:\n",
    "                total_men_found +=1\n",
    "                total_men_found_in_men_folder += 1\n",
    "            elif val == 1:\n",
    "                total_women_found +=1\n",
    "                total_women_found_in_men_folder += 1\n",
    "\n",
    "                \n",
    "                \n",
    "        elif testing_path == 'testing/different-set/woman/':\n",
    "            total_women_images += 1\n",
    "            if val == 0:\n",
    "                total_men_found +=1\n",
    "                total_men_found_in_women_folder += 1\n",
    "            elif val == 1:\n",
    "                total_women_found +=1\n",
    "                total_women_found_in_women_folder += 1\n"
   ]
  },
  {
   "cell_type": "code",
   "execution_count": 15,
   "id": "26e7b7f0",
   "metadata": {},
   "outputs": [],
   "source": [
    "overall_accuracy = \"{:.2f}\".format(((total_men_found_in_men_folder + total_women_found_in_women_folder)/ total_images)*100)+ \"%\"\n",
    "men_accuracy = \"{:.2f}\".format(((total_men_found_in_men_folder)/ total_men_images)*100)+ \"%\"\n",
    "women_accuracy = \"{:.2f}\".format(((total_women_found_in_women_folder)/ total_women_images)*100)+ \"%\"\n",
    "men_in_women_folder = \"{:.2f}\".format(((total_women_found_in_men_folder)/ total_men_images)*100)+ \"%\"\n",
    "women_in_men_folder = \"{:.2f}\".format(((total_men_found_in_women_folder)/ total_women_images)*100)+ \"%\"\n"
   ]
  },
  {
   "cell_type": "code",
   "execution_count": 16,
   "id": "f8db92bc",
   "metadata": {},
   "outputs": [
    {
     "name": "stdout",
     "output_type": "stream",
     "text": [
      "Overall\n",
      "Total Images: 901\n",
      "Overall Accuracy: 63.82%\n",
      "\n",
      "\n",
      "Men folder\n",
      "Total Men Images: 466\n",
      "Total Men Found: 408\n",
      "Total Men Correctly Identified: 274 / 466\n",
      "Total Women found in Men Folder: 192 / 466\n",
      "Men Accuracy: 58.80%\n",
      "Women in men folder %: 41.20%\n",
      "\n",
      "\n",
      "Women folder\n",
      "Total Women Images: 435\n",
      "Total Women Found: 493\n",
      "Total Women Correctly Identified: 301 / 435\n",
      "Total Men found in Women Folder: 134 / 435\n",
      "Women Accuracy 69.20%\n",
      "Men in women folder %: 30.80%\n"
     ]
    }
   ],
   "source": [
    "print(\"Overall\")\n",
    "print(\"Total Images:\", total_images)\n",
    "print(\"Overall Accuracy:\", overall_accuracy)\n",
    "print(\"\")\n",
    "print(\"\")\n",
    "print(\"Men folder\")\n",
    "print(\"Total Men Images:\", total_men_images)\n",
    "print(\"Total Men Found:\", total_men_found)\n",
    "print(\"Total Men Correctly Identified:\", total_men_found_in_men_folder, \"/\", total_men_images)\n",
    "print(\"Total Women found in Men Folder:\", total_women_found_in_men_folder, \"/\", total_men_images)\n",
    "print(\"Men Accuracy:\", men_accuracy)\n",
    "print(\"Women in men folder %:\", men_in_women_folder)\n",
    "print(\"\")\n",
    "print(\"\")\n",
    "print(\"Women folder\")\n",
    "print(\"Total Women Images:\", total_women_images)\n",
    "print(\"Total Women Found:\", total_women_found)\n",
    "print(\"Total Women Correctly Identified:\", total_women_found_in_women_folder, \"/\", total_women_images)\n",
    "print(\"Total Men found in Women Folder:\", total_men_found_in_women_folder, \"/\", total_women_images)\n",
    "print(\"Women Accuracy\", women_accuracy)\n",
    "print(\"Men in women folder %:\", women_in_men_folder)\n"
   ]
  },
  {
   "cell_type": "markdown",
   "id": "1fde4a1a",
   "metadata": {},
   "source": [
    "# Another set from kaggle (its pretty bad, dont take these results as anything... unless they are good)"
   ]
  },
  {
   "cell_type": "code",
   "execution_count": 17,
   "id": "f8826c3f",
   "metadata": {},
   "outputs": [],
   "source": [
    "total_images = 0\n",
    "\n",
    "total_men_found = 0\n",
    "total_men_found_in_men_folder = 0\n",
    "total_men_found_in_women_folder = 0\n",
    "total_men_images = 0\n",
    "\n",
    "total_women_found = 0\n",
    "total_women_found_in_women_folder = 0\n",
    "total_women_found_in_men_folder = 0\n",
    "total_women_images = 0\n",
    "\n",
    "\n",
    "\n",
    "testing_paths = ['testing/another-set/man/', 'testing/another-set/woman/']\n",
    "\n",
    "for testing_path in testing_paths:\n",
    "\n",
    "    for i in os.listdir(testing_path):\n",
    "\n",
    "        img = image.load_img(testing_path + \"/\" + i, target_size = (60,60))\n",
    "        X = image.img_to_array(img)\n",
    "        X = np.expand_dims(X,axis = 0)\n",
    "        images = np.vstack([X])\n",
    "        val = model.predict(images)\n",
    "        if val == 0:\n",
    "            pass\n",
    "        elif val == 1:\n",
    "            pass\n",
    "        else :\n",
    "            val = 0\n",
    "        \n",
    "        total_images += 1\n",
    "        \n",
    "        if testing_path == 'testing/another-set/man/':\n",
    "            total_men_images += 1\n",
    "            if val == 0:\n",
    "                total_men_found +=1\n",
    "                total_men_found_in_men_folder += 1\n",
    "            elif val == 1:\n",
    "                total_women_found +=1\n",
    "                total_women_found_in_men_folder += 1\n",
    "\n",
    "                \n",
    "                \n",
    "        elif testing_path == 'testing/another-set/woman/':\n",
    "            total_women_images += 1\n",
    "            if val == 0:\n",
    "                total_men_found +=1\n",
    "                total_men_found_in_women_folder += 1\n",
    "            elif val == 1:\n",
    "                total_women_found +=1\n",
    "                total_women_found_in_women_folder += 1\n"
   ]
  },
  {
   "cell_type": "code",
   "execution_count": 18,
   "id": "96fcface",
   "metadata": {},
   "outputs": [],
   "source": [
    "overall_accuracy = \"{:.2f}\".format(((total_men_found_in_men_folder + total_women_found_in_women_folder)/ total_images)*100)+ \"%\"\n",
    "men_accuracy = \"{:.2f}\".format(((total_men_found_in_men_folder)/ total_men_images)*100)+ \"%\"\n",
    "women_accuracy = \"{:.2f}\".format(((total_women_found_in_women_folder)/ total_women_images)*100)+ \"%\"\n",
    "men_in_women_folder = \"{:.2f}\".format(((total_women_found_in_men_folder)/ total_men_images)*100)+ \"%\"\n",
    "women_in_men_folder = \"{:.2f}\".format(((total_men_found_in_women_folder)/ total_women_images)*100)+ \"%\""
   ]
  },
  {
   "cell_type": "code",
   "execution_count": 19,
   "id": "ea59e8d8",
   "metadata": {},
   "outputs": [
    {
     "name": "stdout",
     "output_type": "stream",
     "text": [
      "Overall\n",
      "Total Images: 299\n",
      "Overall Accuracy: 41.14%\n",
      "\n",
      "\n",
      "Men folder\n",
      "Total Men Images: 92\n",
      "Total Men Found: 228\n",
      "Total Men Correctly Identified: 72 / 92\n",
      "Total Women found in Men Folder: 20 / 92\n",
      "Men Accuracy: 78.26%\n",
      "Women in men folder %: 21.74%\n",
      "\n",
      "\n",
      "Women folder\n",
      "Total Women Images: 207\n",
      "Total Women Found: 71\n",
      "Total Women Correctly Identified: 51 / 207\n",
      "Total Men found in Women Folder: 156 / 207\n",
      "Women Accuracy 24.64%\n",
      "Men in women folder %: 75.36%\n"
     ]
    }
   ],
   "source": [
    "print(\"Overall\")\n",
    "print(\"Total Images:\", total_images)\n",
    "print(\"Overall Accuracy:\", overall_accuracy)\n",
    "print(\"\")\n",
    "print(\"\")\n",
    "print(\"Men folder\")\n",
    "print(\"Total Men Images:\", total_men_images)\n",
    "print(\"Total Men Found:\", total_men_found)\n",
    "print(\"Total Men Correctly Identified:\", total_men_found_in_men_folder, \"/\", total_men_images)\n",
    "print(\"Total Women found in Men Folder:\", total_women_found_in_men_folder, \"/\", total_men_images)\n",
    "print(\"Men Accuracy:\", men_accuracy)\n",
    "print(\"Women in men folder %:\", men_in_women_folder)\n",
    "print(\"\")\n",
    "print(\"\")\n",
    "print(\"Women folder\")\n",
    "print(\"Total Women Images:\", total_women_images)\n",
    "print(\"Total Women Found:\", total_women_found)\n",
    "print(\"Total Women Correctly Identified:\", total_women_found_in_women_folder, \"/\", total_women_images)\n",
    "print(\"Total Men found in Women Folder:\", total_men_found_in_women_folder, \"/\", total_women_images)\n",
    "print(\"Women Accuracy\", women_accuracy)\n",
    "print(\"Men in women folder %:\", women_in_men_folder)"
   ]
  },
  {
   "cell_type": "code",
   "execution_count": null,
   "id": "52444d88",
   "metadata": {},
   "outputs": [],
   "source": []
  },
  {
   "cell_type": "code",
   "execution_count": null,
   "id": "466c6a23",
   "metadata": {},
   "outputs": [],
   "source": []
  }
 ],
 "metadata": {
  "kernelspec": {
   "display_name": "Python 3 (ipykernel)",
   "language": "python",
   "name": "python3"
  },
  "language_info": {
   "codemirror_mode": {
    "name": "ipython",
    "version": 3
   },
   "file_extension": ".py",
   "mimetype": "text/x-python",
   "name": "python",
   "nbconvert_exporter": "python",
   "pygments_lexer": "ipython3",
   "version": "3.9.7"
  }
 },
 "nbformat": 4,
 "nbformat_minor": 5
}
